{
 "cells": [
  {
   "cell_type": "code",
   "execution_count": 1,
   "metadata": {},
   "outputs": [],
   "source": [
    "import tkinter as tk\n",
    "from tkinter import filedialog\n",
    "from PIL import Image, ImageTk\n",
    "import matplotlib.pyplot as plt\n",
    "import numpy as np\n",
    "\n",
    "# Yapay zeka modelinizin tahmin işlevi\n",
    "def make_prediction(image):\n",
    "    # Burada yapay zeka modelinizi kullanarak tahmin yapabilirsiniz\n",
    "    # Örnek olarak, rastgele bir tahmin oluşturuyoruz\n",
    "    labels = ['Organic', 'Recyclable']\n",
    "    prediction = np.random.choice(labels)\n",
    "    return prediction\n",
    "\n",
    "# Resmi döndürme işlevi\n",
    "def rotate_image(image_path, angle):\n",
    "    img = Image.open(image_path)\n",
    "    rotated_img = img.rotate(angle)\n",
    "    return rotated_img\n",
    "\n",
    "# Görseli seçme ve işleme işlevi\n",
    "def select_image():\n",
    "    file_path = filedialog.askopenfilename()\n",
    "    if file_path:\n",
    "        rotated_img = rotate_image(file_path, 90)  # Resmi 90 derece döndür\n",
    "        display_image(rotated_img)\n",
    "        prediction = make_prediction(rotated_img)\n",
    "        prediction_label.config(text=f\"Prediction: {prediction}\")\n",
    "\n",
    "# Görseli görüntüleme işlevi\n",
    "def display_image(img):\n",
    "    img.thumbnail((300, 300))  # Görseli boyutlandır\n",
    "    img = ImageTk.PhotoImage(img)\n",
    "    image_label.config(image=img)\n",
    "    image_label.image = img\n",
    "\n",
    "# Kullanıcı arayüzü oluşturma\n",
    "root = tk.Tk()\n",
    "root.title(\"Image Prediction App\")\n",
    "\n",
    "select_button = tk.Button(root, text=\"Select Image\", command=select_image)\n",
    "select_button.pack(pady=10)\n",
    "\n",
    "image_label = tk.Label(root)\n",
    "image_label.pack()\n",
    "\n",
    "prediction_label = tk.Label(root, text=\"Prediction: \")\n",
    "prediction_label.pack()\n",
    "\n",
    "root.mainloop()\n"
   ]
  },
  {
   "cell_type": "code",
   "execution_count": null,
   "metadata": {},
   "outputs": [],
   "source": [
    "pip install PIL"
   ]
  }
 ],
 "metadata": {
  "kernelspec": {
   "display_name": "tensorflow",
   "language": "python",
   "name": "python3"
  },
  "language_info": {
   "codemirror_mode": {
    "name": "ipython",
    "version": 3
   },
   "file_extension": ".py",
   "mimetype": "text/x-python",
   "name": "python",
   "nbconvert_exporter": "python",
   "pygments_lexer": "ipython3",
   "version": "3.11.4"
  },
  "orig_nbformat": 4
 },
 "nbformat": 4,
 "nbformat_minor": 2
}
